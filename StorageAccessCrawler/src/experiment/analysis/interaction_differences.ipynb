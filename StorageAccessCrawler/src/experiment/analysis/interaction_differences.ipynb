{
 "cells": [
  {
   "cell_type": "markdown",
   "id": "71af7250-3dd4-4d79-b08c-ec9ba680b211",
   "metadata": {},
   "source": [
    "# Interaction Differences Analysis\n",
    "\n",
    "A storage-access request will automatically be denied when no user interaction preceeded the first time access is requested. This means that websites might not call SAA functions until a specific user interaction happened. This notebook is used to analyze whether there is a significant difference for the detection of SAA via function hooking if user interactions are performed on the visited site or not. "
   ]
  },
  {
   "cell_type": "markdown",
   "id": "a10818de-7a5d-481a-918d-cbf7e83a166b",
   "metadata": {},
   "source": [
    "## Imports and Helper Functions"
   ]
  },
  {
   "cell_type": "code",
   "execution_count": null,
   "id": "031fdcf1-0b7b-4574-9cb9-a9417792aace",
   "metadata": {},
   "outputs": [],
   "source": [
    "from database import Task, URL\n",
    "from IPython.display import display, HTML\n",
    "from modules.storageaccessapi import Document, DocumentInclusion, Script, ScriptInclusion, SaaCall\n",
    "from peewee import fn\n",
    "import matplotlib.pyplot as plt\n",
    "import pandas as pd\n",
    "import plotly.graph_objects as go\n",
    "import plotly.io as pio\n",
    "from plotly.subplots import make_subplots"
   ]
  },
  {
   "cell_type": "code",
   "execution_count": null,
   "id": "e37a5e91-0b96-4300-8fc0-258b3e6eb200",
   "metadata": {},
   "outputs": [],
   "source": [
    "def get_all_sites_calls(job: str):\n",
    "    query = (\n",
    "        SaaCall\n",
    "        .select(\n",
    "            SaaCall.site\n",
    "        )\n",
    "        .where((SaaCall.job == job) & ((getattr(SaaCall, \"has_saa\") == True) | (getattr(SaaCall, \"request_saa\") == True)))\n",
    "        .distinct(SaaCall.site)\n",
    "    )\n",
    "    res = pd.DataFrame(list(query.dicts()))\n",
    "    return res"
   ]
  },
  {
   "cell_type": "markdown",
   "id": "1a9a9f75-fc9c-4168-a488-7216ca635813",
   "metadata": {},
   "source": [
    "---\n",
    "\n",
    "## Collecting Data"
   ]
  },
  {
   "cell_type": "code",
   "execution_count": null,
   "id": "fcdb1983-0edd-4c7d-bccd-e228f592a9b6",
   "metadata": {},
   "outputs": [],
   "source": [
    "timestamps = list(range(1, 6))\n",
    "\n",
    "# Collect data\n",
    "with_interaction = []\n",
    "without_interaction = []\n",
    "for i in range(1, 6):\n",
    "    with_interaction.append(len(get_all_sites_calls(f\"storageaccessapiwi{i}\")))\n",
    "    without_interaction.append(len(get_all_sites_calls(f\"storageaccessapiwoi{i}\")))\n",
    "sites_with, sites_without = set(), set()\n",
    "for i in range(1, 6):\n",
    "    sites_with = sites_with | set(get_all_sites_calls(f\"storageaccessapiwi{i}\")[\"site\"])\n",
    "    sites_without = sites_without | set(get_all_sites_calls(f\"storageaccessapiwoi{i}\")[\"site\"])\n",
    "sites_both = sites_with & sites_without\n",
    "sites_only_with = sites_with - sites_both\n",
    "sites_only_without = sites_without - sites_both"
   ]
  },
  {
   "cell_type": "markdown",
   "id": "302d2bae-9f33-4455-8ee1-d67dc1202ca3",
   "metadata": {},
   "source": [
    "---\n",
    "\n",
    "## Plotting Results"
   ]
  },
  {
   "cell_type": "code",
   "execution_count": null,
   "id": "b844f6d8-c8a9-4ea6-8fc6-8d67db69b743",
   "metadata": {},
   "outputs": [],
   "source": [
    "fig1 = go.Figure()\n",
    "fig1.add_trace(go.Bar(\n",
    "    x=timestamps,\n",
    "    y=with_interaction,\n",
    "    name='With Interaction',\n",
    "    marker_color='light blue',\n",
    "    width=0.6,\n",
    "    showlegend=False\n",
    "))\n",
    "\n",
    "# Total unique sites\n",
    "fig1.add_trace(go.Scatter(\n",
    "    x=[0] + timestamps + [6],\n",
    "    y=[len(sites_with)] * (len(timestamps) + 2),\n",
    "    mode='lines',\n",
    "    line=dict(color='red'),\n",
    "    name='Total unique sites',\n",
    "    showlegend=True\n",
    "))\n",
    "\n",
    "# Average\n",
    "fig1.add_trace(go.Scatter(\n",
    "    x=[0] + timestamps + [6],\n",
    "    y=[sum(with_interaction)/len(with_interaction)] * (len(timestamps) + 2),\n",
    "    mode='lines',\n",
    "    line=dict(dash='dash', color='black'),\n",
    "    name='Average',\n",
    "    showlegend=True\n",
    "))\n",
    "\n",
    "fig1.update_layout(\n",
    "    title_text='With Interaction',\n",
    "    yaxis=dict(title=\"№ of Sites\", range=[225, 325], ticklabelposition=\"outside\", ticksuffix=' '),\n",
    "    xaxis=dict(title='Crawl', tickvals=[1, 2, 3, 4, 5]),\n",
    "    width=520\n",
    ")\n",
    "\n",
    "pio.show(fig1)"
   ]
  },
  {
   "cell_type": "code",
   "execution_count": null,
   "id": "efd53a5f-0b98-490a-80d3-7ff8d428902e",
   "metadata": {},
   "outputs": [],
   "source": [
    "fig2 = go.Figure()\n",
    "fig2.add_trace(go.Bar(\n",
    "    x=timestamps,\n",
    "    y=without_interaction,\n",
    "    name='Without Interaction',\n",
    "    marker_color='orange',\n",
    "    width=0.6,\n",
    "    showlegend=False,\n",
    "))\n",
    "\n",
    "# Total unique sites\n",
    "fig2.add_trace(go.Scatter(\n",
    "    x=[0] + timestamps + [6],\n",
    "    y=[len(sites_without)] * (len(timestamps) + 2),\n",
    "    mode='lines',\n",
    "    line=dict(color='red'),\n",
    "    name='Total unique sites',\n",
    "    showlegend=True\n",
    "))\n",
    "\n",
    "# Average\n",
    "fig2.add_trace(go.Scatter(\n",
    "    x=[0] + timestamps + [6],\n",
    "    y=[sum(without_interaction)/len(without_interaction)] * (len(timestamps) + 2),\n",
    "    mode='lines',\n",
    "    line=dict(dash='dash', color='black'),\n",
    "    name='Average',\n",
    "    showlegend=True\n",
    "))\n",
    "\n",
    "fig2.update_layout(\n",
    "    title_text='Without Interaction',\n",
    "    showlegend=True,\n",
    "    yaxis=dict(title=\"№ of Sites\", range=[225, 325], ticklabelposition=\"outside\", ticksuffix=' '),\n",
    "    xaxis=dict(title='Crawl', tickvals=[1, 2, 3, 4, 5]),\n",
    "    width=520\n",
    ")\n",
    "\n",
    "pio.show(fig2)"
   ]
  },
  {
   "cell_type": "code",
   "execution_count": null,
   "id": "09088dd3-1060-493d-ab95-ad157c88daaa",
   "metadata": {},
   "outputs": [],
   "source": [
    "values = [len(sites_both), len(sites_only_with), len(sites_only_without)]\n",
    "bar = go.Bar(\n",
    "    x=values[::-1],\n",
    "    y=[\"Found w/ and   <br>w/o Interaction\", \"Found only   <br>w/ Interaction\", \"Found only   <br>w/o Interaction\"][::-1],\n",
    "    orientation='h',\n",
    "    marker=dict(color=['green', 'blue', 'orange'][::-1]),\n",
    "    showlegend=False,\n",
    "    text=values[::-1],\n",
    "    textposition=['inside' if v > 50 else 'outside' for v in values[::-1]],\n",
    "    textfont=dict(color=['white' if v > 50 else 'black' for v in values[::-1]])\n",
    ")\n",
    "\n",
    "fig = go.Figure(bar)\n",
    "fig.update_layout(\n",
    "    title_text='Distribution of Sites Found',\n",
    "    showlegend=True,\n",
    "    yaxis=dict(title=\"\", ticklabelposition=\"outside\", ticksuffix='   '),\n",
    "    xaxis=dict(title=\"№ of Sites\", range=[0, 300]),\n",
    "    width=1000,\n",
    "    bargap=0.3,\n",
    "    height=325,\n",
    ")\n",
    "\n",
    "fig.show()"
   ]
  },
  {
   "cell_type": "markdown",
   "id": "3417254d-cc07-4429-9f70-d7de25f22ac0",
   "metadata": {},
   "source": [
    "---\n",
    "\n",
    "## Statistical Test"
   ]
  },
  {
   "cell_type": "code",
   "execution_count": null,
   "id": "5a6a032e-70fa-45a9-9eb8-f42533d64592",
   "metadata": {},
   "outputs": [],
   "source": [
    "from scipy import stats\n",
    "print(with_interaction, without_interaction)\n",
    "\n",
    "# Establish the Null Hypothesis\n",
    "print(\"Null Hypothesis: There is no significant difference between the two techniques.\\n\")\n",
    "\n",
    "# Independent two-sample t-test\n",
    "t_stat, p_value = stats.ttest_ind(with_interaction, without_interaction, alternative='two-sided')\n",
    "print(f\"P-value: {p_value} {'>= 0.05' if p_value >= 0.05 else '< 0.05'}\")\n",
    "\n",
    "# Conclusion based on p-value\n",
    "alpha = 0.05\n",
    "if p_value < alpha:\n",
    "    print(\"Reject the null hypothesis: There is a significant difference between the two techniques.\")\n",
    "else:\n",
    "    print(\"Fail to reject the null hypothesis: There is no significant difference between the two techniques.\")"
   ]
  }
 ],
 "metadata": {
  "kernelspec": {
   "display_name": "Python 3 (ipykernel)",
   "language": "python",
   "name": "python3"
  },
  "language_info": {
   "codemirror_mode": {
    "name": "ipython",
    "version": 3
   },
   "file_extension": ".py",
   "mimetype": "text/x-python",
   "name": "python",
   "nbconvert_exporter": "python",
   "pygments_lexer": "ipython3",
   "version": "3.10.12"
  }
 },
 "nbformat": 4,
 "nbformat_minor": 5
}
