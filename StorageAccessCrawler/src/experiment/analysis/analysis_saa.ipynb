{
 "cells": [
  {
   "cell_type": "markdown",
   "id": "a3731362-9439-4bff-846b-3d0aa954ac0a",
   "metadata": {
    "collapsed": true,
    "jupyter": {
     "outputs_hidden": true
    }
   },
   "source": [
    "# Storage Access API Demo Analysis\n",
    "\n",
    "This jupyter notebook can be used to extract the results of the SAA experiment from the database and analyze it."
   ]
  },
  {
   "cell_type": "code",
   "id": "348c7818-d06a-4d73-8676-aa90c456362c",
   "metadata": {},
   "source": [
    "# Automatically reload all modules that are changed before executing code\n",
    "%load_ext autoreload\n",
    "%autoreload 2"
   ],
   "outputs": [],
   "execution_count": null
  },
  {
   "cell_type": "markdown",
   "id": "e0fa8210-5ca4-4b6e-8380-2983be65bca1",
   "metadata": {},
   "source": "## General Analysis of Tasks"
  },
  {
   "cell_type": "code",
   "id": "5873eac8-c32c-4c12-8cd5-6f036731709e",
   "metadata": {},
   "source": [
    "from database import Task, URL\n",
    "import matplotlib.pyplot as plt\n",
    "import pandas as pd\n",
    "from IPython.display import display, HTML"
   ],
   "outputs": [],
   "execution_count": null
  },
  {
   "cell_type": "code",
   "id": "7e3d0eec-85de-41bf-81cd-86d5be0fc554",
   "metadata": {},
   "source": [
    "# Select data from db\n",
    "tasks = Task.select().where(Task.job == \"storageaccessapi\")\n",
    "urls = URL.select().where(URL.job == \"storageaccessapi\")\n",
    "\n",
    "# Transform to dataframes\n",
    "tasks = pd.DataFrame(list(tasks.dicts()))\n",
    "urls = pd.DataFrame(list(urls.dicts()))\n",
    "\n",
    "# Show tasks table\n",
    "display(tasks)"
   ],
   "outputs": [],
   "execution_count": null
  }
 ],
 "metadata": {
  "kernelspec": {
   "display_name": "Python 3 (ipykernel)",
   "language": "python",
   "name": "python3"
  },
  "language_info": {
   "codemirror_mode": {
    "name": "ipython",
    "version": 3
   },
   "file_extension": ".py",
   "mimetype": "text/x-python",
   "name": "python",
   "nbconvert_exporter": "python",
   "pygments_lexer": "ipython3",
   "version": "3.10.12"
  }
 },
 "nbformat": 4,
 "nbformat_minor": 5
}
