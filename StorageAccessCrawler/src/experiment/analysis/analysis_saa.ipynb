{
 "cells": [
  {
   "cell_type": "markdown",
   "id": "a3731362-9439-4bff-846b-3d0aa954ac0a",
   "metadata": {
    "collapsed": true,
    "jupyter": {
     "outputs_hidden": true
    }
   },
   "source": [
    "# Storage Access API Demo Analysis\n",
    "\n",
    "This jupyter notebook can be used to extract the results of the SAA experiment from the database and analyze it."
   ]
  },
  {
   "cell_type": "code",
   "id": "348c7818-d06a-4d73-8676-aa90c456362c",
   "metadata": {},
   "source": [
    "# Automatically reload all modules that are changed before executing code\n",
    "%load_ext autoreload\n",
    "%autoreload 2"
   ],
   "outputs": [],
   "execution_count": null
  },
  {
   "cell_type": "markdown",
   "id": "abed1ffa-bd33-4d65-bb6b-d61cf7ab8a13",
   "metadata": {},
   "source": [
    "---\n",
    "\n",
    "## Imports and Helper Functions"
   ]
  },
  {
   "cell_type": "code",
   "id": "5873eac8-c32c-4c12-8cd5-6f036731709e",
   "metadata": {},
   "source": [
    "from database import Task, URL\n",
    "from IPython.display import display, HTML\n",
    "from modules.storageaccessapi import Document, DocumentInclusion, Script, ScriptInclusion\n",
    "from peewee import fn\n",
    "import matplotlib.pyplot as plt\n",
    "import pandas as pd"
   ],
   "outputs": [],
   "execution_count": null
  },
  {
   "cell_type": "markdown",
   "id": "850c8768-83ca-4306-a121-438108428aca",
   "metadata": {},
   "source": [
    "---"
   ]
  },
  {
   "cell_type": "markdown",
   "id": "c65f28ff-ddef-422d-bc05-c5d3c7bad95b",
   "metadata": {},
   "source": [
    "## Browser Differences"
   ]
  },
  {
   "cell_type": "markdown",
   "id": "d2b70059-f390-4dab-803a-4a194bc66c6e",
   "metadata": {},
   "source": [
    "### SAA Scripts found"
   ]
  },
  {
   "cell_type": "code",
   "id": "249b309f-bf04-430a-8052-f4aabfa1251a",
   "metadata": {},
   "source": [
    "scripts = []\n",
    "labels = [\"chromium\", \"firefox\", \"webkit\"]\n",
    "tables = []\n",
    "\n",
    "for browser in labels:\n",
    "    query = (\n",
    "            Script\n",
    "            .select(\n",
    "                Script.url, Script.sha1, Script.id.alias(\"script_id\")\n",
    "            )\n",
    "            .join(ScriptInclusion, on=(ScriptInclusion.script == Script.id))\n",
    "            .where((Script.saa == True) & (ScriptInclusion.browser == browser))\n",
    "            .distinct(Script.url)\n",
    "    )\n",
    "    tables.append(pd.DataFrame(list(query.dicts()))[\"url\"])\n",
    "    scripts.append(len(pd.DataFrame(list(query.dicts()))))\n",
    "\n",
    "print(scripts)\n",
    "plt.figure(figsize=(8, 5))\n",
    "plt.bar(labels, scripts, color=['blue', 'green', 'red'])\n",
    "plt.xlabel('Browser')\n",
    "plt.ylabel('SAA Scripts')\n",
    "plt.title('Number of Scripts using SAA')\n",
    "plt.show()"
   ],
   "outputs": [],
   "execution_count": null
  },
  {
   "cell_type": "code",
   "id": "d634faf4-86cf-4e98-b58c-771615b2b32c",
   "metadata": {},
   "source": [
    "intersection1 = pd.merge(tables[0], tables[1], on='url', how='inner')\n",
    "intersection2 = pd.merge(tables[0], tables[2], on='url', how='inner')\n",
    "intersection3 = pd.merge(tables[1], tables[2], on='url', how='inner')\n",
    "percentage1 = (len(intersection1) / len(tables[0])) * 100\n",
    "percentage2 = (len(intersection2) / len(tables[0])) * 100\n",
    "percentage3 = (len(intersection3) / len(tables[1])) * 100\n",
    "print(\"Intersection Chrome / Firefox:\", percentage1)\n",
    "print(\"Intersection Chrome / Webkit:\", percentage2)\n",
    "print(\"Intersection Firefox / Webkit:\", percentage3)\n",
    "\n",
    "set1 = set(tables[0])\n",
    "set2 = set(tables[1])\n",
    "unique_df1 = set1 - set2\n",
    "unique_df2 = set2 - set1\n",
    "print(len(unique_df1))\n",
    "print(len(unique_df2))"
   ],
   "outputs": [],
   "execution_count": null
  },
  {
   "cell_type": "markdown",
   "id": "3282cbf2-1b98-4fcb-9c27-666b959641d6",
   "metadata": {},
   "source": [
    "### SAA Documents found"
   ]
  },
  {
   "cell_type": "code",
   "id": "6c0d323d-215d-41ab-b0c2-537db921447e",
   "metadata": {},
   "source": [
    "documents = []\n",
    "labels = [\"chromium\", \"firefox\", \"webkit\"]\n",
    "tables = []\n",
    "\n",
    "for browser in labels:\n",
    "    query = (\n",
    "            Document\n",
    "            .select(\n",
    "                Document.url, Document.sha1, Document.id.alias(\"document_id\")\n",
    "            )\n",
    "            .join(DocumentInclusion, on=(DocumentInclusion.document == Document.id))\n",
    "            .where((Document.saa == True) & (DocumentInclusion.browser == browser))\n",
    "            .distinct(Document.url)\n",
    "    )\n",
    "    tables.append(pd.DataFrame(list(query.dicts()))[\"url\"])\n",
    "    documents.append(len(pd.DataFrame(list(query.dicts()))))\n",
    "\n",
    "print(documents)\n",
    "plt.figure(figsize=(8, 5))\n",
    "plt.bar(labels, documents, color=['blue', 'green', 'red'])\n",
    "plt.xlabel('Browser')\n",
    "plt.ylabel('SAA Documents')\n",
    "plt.title('Number of Documents using SAA')\n",
    "plt.show()"
   ],
   "outputs": [],
   "execution_count": null
  },
  {
   "cell_type": "code",
   "id": "c809d23d-c7aa-4d26-9de0-62007ef7c1bc",
   "metadata": {},
   "source": [
    "intersection1 = pd.merge(tables[0], tables[1], on='url', how='inner')\n",
    "intersection2 = pd.merge(tables[0], tables[2], on='url', how='inner')\n",
    "intersection3 = pd.merge(tables[1], tables[2], on='url', how='inner')\n",
    "percentage1 = (len(intersection1) / len(tables[0])) * 100\n",
    "percentage2 = (len(intersection2) / len(tables[0])) * 100\n",
    "percentage3 = (len(intersection3) / len(tables[1])) * 100\n",
    "print(\"Intersection Chrome / Firefox:\", percentage1)\n",
    "print(\"Intersection Chrome / Webkit:\", percentage2)\n",
    "print(\"Intersection Firefox / Webkit:\", percentage3)"
   ],
   "outputs": [],
   "execution_count": null
  },
  {
   "cell_type": "markdown",
   "id": "e0fa8210-5ca4-4b6e-8380-2983be65bca1",
   "metadata": {},
   "source": [
    "---\n",
    "\n",
    "## Task Analysis"
   ]
  },
  {
   "cell_type": "code",
   "id": "7e3d0eec-85de-41bf-81cd-86d5be0fc554",
   "metadata": {},
   "source": [
    "# Select data from db\n",
    "tasks = Task.select().where(Task.job == \"storageaccessapi\")\n",
    "urls = URL.select().where(URL.job == \"storageaccessapi\")\n",
    "\n",
    "# Transform to dataframes\n",
    "tasks = pd.DataFrame(list(tasks.dicts()))\n",
    "urls = pd.DataFrame(list(urls.dicts()))\n",
    "\n",
    "# Show tasks table\n",
    "display(tasks)"
   ],
   "outputs": [],
   "execution_count": null
  },
  {
   "cell_type": "markdown",
   "id": "aaf06051-ce25-4725-a3f3-21b6a1e918de",
   "metadata": {},
   "source": [
    "### Task Errors"
   ]
  },
  {
   "cell_type": "code",
   "id": "f3f8d63c-0cf0-4936-9636-9babb46e50d9",
   "metadata": {},
   "source": [
    "errors = Task.select().where(Task.error != None)\n",
    "errors = pd.DataFrame(list(errors.dicts()))\n",
    "display(errors)"
   ],
   "outputs": [],
   "execution_count": null
  },
  {
   "cell_type": "markdown",
   "id": "43c6cb17-b900-4447-98dc-75cc3cbe2652",
   "metadata": {},
   "source": [
    "---\n",
    "\n",
    "## All Scripts and Documents using SAA"
   ]
  },
  {
   "cell_type": "code",
   "id": "d8c3b89f-601a-473e-8f3b-624fdad63441",
   "metadata": {},
   "source": [
    "query_scripts = (\n",
    "        Script\n",
    "        .select(\n",
    "            Script.url, Script.id.alias(\"script_id\")\n",
    "        )\n",
    "        .where(Script.saa == True)\n",
    ")\n",
    "\n",
    "query_documents = (\n",
    "        Document\n",
    "        .select(\n",
    "            Document.url, Document.id.alias(\"document_id\")\n",
    "        )\n",
    "        .where(Document.saa == True)\n",
    ")\n",
    "\n",
    "saa_scripts = pd.DataFrame(list(query_scripts.dicts()))\n",
    "saa_documents = pd.DataFrame(list(query_documents.dicts()))\n",
    "display(HTML(\"<h3>Scripts:</h3>\"))\n",
    "display(saa_scripts)\n",
    "display(HTML(\"<h3>Documents:</h3>\"))\n",
    "display(saa_documents)"
   ],
   "outputs": [],
   "execution_count": null
  },
  {
   "cell_type": "markdown",
   "id": "7cf437da-fc93-4926-9c1f-300a72db8a15",
   "metadata": {},
   "source": [
    "---\n",
    "\n",
    "## All Script- and DocumentInclusion using SAA\n"
   ]
  },
  {
   "cell_type": "code",
   "id": "140bda1a-f1ad-429b-9236-823b235f1695",
   "metadata": {},
   "source": [
    "query_scripts = (\n",
    "        ScriptInclusion\n",
    "        .select(\n",
    "            ScriptInclusion, Script.url\n",
    "        )\n",
    "        .join(Script, on=(ScriptInclusion.script == Script.id))\n",
    "        .where(Script.saa == True)\n",
    ")\n",
    "\n",
    "query_documents = (\n",
    "        DocumentInclusion\n",
    "        .select(\n",
    "            DocumentInclusion, Document.url\n",
    "        )\n",
    "        .join(Document, on=(DocumentInclusion.document == Document.id))\n",
    "        .where(Document.saa == True)\n",
    ")\n",
    "\n",
    "saa_scripts = pd.DataFrame(list(query_scripts.dicts()))\n",
    "saa_documents = pd.DataFrame(list(query_documents.dicts()))\n",
    "display(HTML(\"<h3>Scripts:</h3>\"))\n",
    "display(saa_scripts)\n",
    "display(HTML(\"<h3>Documents:</h3>\"))\n",
    "display(saa_documents)\n",
    "\n",
    "print(list(dict.fromkeys([x[\"url\"] for x in list(query_scripts.dicts()) if \"captcha\" not in x[\"url\"] and \"gstatic\" not in x[\"url\"]])))"
   ],
   "outputs": [],
   "execution_count": null
  },
  {
   "cell_type": "markdown",
   "id": "97168b4d-4a89-41d3-90d6-be14f3b7a4a0",
   "metadata": {},
   "source": [
    "---\n",
    "\n",
    "## Analysis of Sites using SAA\n",
    "\n",
    "### Sites using SAA"
   ]
  },
  {
   "cell_type": "code",
   "id": "bc4c5f1e-726c-4eb7-8c5c-780908328dba",
   "metadata": {},
   "source": [
    "# Only sites using SAA are stored in the DB\n",
    "# We only need to query the DocumentInclusion with distinct site column\n",
    "query = (\n",
    "    DocumentInclusion\n",
    "    .select(DocumentInclusion.site)\n",
    "    .distinct(DocumentInclusion.site)\n",
    ")\n",
    "\n",
    "# Execute the query and return the results\n",
    "top_level_sites = pd.DataFrame(list(query.dicts()))\n",
    "display(top_level_sites)"
   ],
   "outputs": [],
   "execution_count": null
  },
  {
   "cell_type": "markdown",
   "id": "8c56cc43-c1e0-48a4-bf92-4bc7b707c34c",
   "metadata": {},
   "source": [
    "---"
   ]
  },
  {
   "cell_type": "code",
   "id": "006f8073-080e-4ed4-a4be-c0514eb976cc",
   "metadata": {},
   "source": [
    "site = \"dominos.com\""
   ],
   "outputs": [],
   "execution_count": null
  },
  {
   "cell_type": "markdown",
   "id": "f7f67640-df4c-419c-9da1-4813f3d913ce",
   "metadata": {},
   "source": [
    "### Top-level URLs of Site embedding SAA Content"
   ]
  },
  {
   "cell_type": "code",
   "id": "25324539-f6ff-40c6-b501-9bb3f6fbe858",
   "metadata": {},
   "source": [
    "# Get all Documents that have top-level DocumentInclusions\n",
    "query = (\n",
    "        DocumentInclusion\n",
    "        .select(\n",
    "            DocumentInclusion, Document\n",
    "        )\n",
    "        .join(Document, on=(DocumentInclusion.document == Document.id))\n",
    "        .where((DocumentInclusion.site == site) & (DocumentInclusion.parent.is_null(True)))\n",
    ")\n",
    "\n",
    "top_level_documents = pd.DataFrame(list(query.dicts()))\n",
    "display(top_level_documents)"
   ],
   "outputs": [],
   "execution_count": null
  },
  {
   "cell_type": "markdown",
   "id": "42e63b9a-b619-48d0-ac08-c0dee1779223",
   "metadata": {},
   "source": [
    "### Document- and ScriptInclusions of Top-level Site using SAA"
   ]
  },
  {
   "cell_type": "code",
   "id": "c1341f6c-59b5-44ca-8641-f521851b08ac",
   "metadata": {},
   "source": [
    "# Get all Documents using SAA embedded on the top-level site\n",
    "TopLevelDocument = Document.alias('TopLevelDocument')\n",
    "query = (\n",
    "        DocumentInclusion\n",
    "        .select(\n",
    "            Document, TopLevelDocument.url.alias(\"top_level_url\")\n",
    "        )\n",
    "        .join(Document, on=(DocumentInclusion.document == Document.id))\n",
    "        .join(TopLevelDocument, on=(DocumentInclusion.top_level_site == TopLevelDocument.id))\n",
    "        .where((DocumentInclusion.site == site) & (Document.saa))\n",
    ")\n",
    "\n",
    "documents = pd.DataFrame(list(query.dicts()))\n",
    "display(documents)"
   ],
   "outputs": [],
   "execution_count": null
  },
  {
   "cell_type": "code",
   "id": "5c59a5a3-7deb-4242-9e45-fab6306a3edb",
   "metadata": {},
   "source": [
    "# Get all Scripts using SAA embedded on the top-level site\n",
    "query = (\n",
    "        ScriptInclusion\n",
    "        .select(\n",
    "            ScriptInclusion.id, ScriptInclusion.document_inclusion, Script.sha1, Script.sha1_url, Script.url.alias(\"script_url\"), Script.saa, Document.url.alias(\"top_level_url\")\n",
    "        )\n",
    "        .join(Script, on=(ScriptInclusion.script == Script.id))\n",
    "        .join(Document, on=(ScriptInclusion.top_level_site == Document.id))\n",
    "        .where((ScriptInclusion.site == site) & (Script.saa))\n",
    ")\n",
    "\n",
    "scripts = pd.DataFrame(list(query.dicts()))\n",
    "display(scripts)\n",
    "\n",
    "print(scripts[\"script_url\"][0])"
   ],
   "outputs": [],
   "execution_count": null
  },
  {
   "cell_type": "markdown",
   "id": "592c8337-deae-4b90-bb92-4124a5d15fe2",
   "metadata": {},
   "source": [
    "### Frame hierarchy of specific URL"
   ]
  },
  {
   "cell_type": "code",
   "id": "c7e99a96-2162-423d-8b58-b5f98e2587e8",
   "metadata": {},
   "source": [
    "class Frame:\n",
    "\n",
    "    def __init__(self, sha1, sha1_url, url, saa, parent=None):\n",
    "        self.sha1 = sha1\n",
    "        self.sha1_url = sha1_url\n",
    "        self.url = url\n",
    "        self.scripts = []\n",
    "        self.saa = saa\n",
    "        self.parent = parent\n",
    "        self.children = []\n",
    "\n",
    "\n",
    "class Scripting:\n",
    "\n",
    "    def __init__(self, sha1, sha1_url, url, saa):\n",
    "        self.sha1 = sha1\n",
    "        self.sha1_url = sha1_url\n",
    "        self.url = url\n",
    "        self.saa = saa"
   ],
   "outputs": [],
   "execution_count": null
  },
  {
   "cell_type": "code",
   "id": "aa959c66-1b0a-44d6-8105-be5824c7f553",
   "metadata": {},
   "source": [
    "def get_tree(inclusion_id, frame:Frame=None):\n",
    "    # Get document inclsuion from id\n",
    "    docinc = DocumentInclusion.get(DocumentInclusion.id == inclusion_id)\n",
    "\n",
    "    # If frame is None we need to set the top-level frame, otherwise append as child to the previous frame\n",
    "    if frame is None:\n",
    "        frame = Frame(sha1=docinc.document.sha1, sha1_url=docinc.document.sha1_url, url=docinc.document.url, saa=docinc.document.saa)\n",
    "    else:\n",
    "        new_frame = Frame(sha1=docinc.document.sha1, sha1_url=docinc.document.sha1_url, url=docinc.document.url, saa=docinc.document.saa, parent=frame)\n",
    "        frame.children.append(new_frame)\n",
    "        frame = new_frame\n",
    "\n",
    "    # Add scripts\n",
    "    for scriptinc in docinc.script_inclusions:\n",
    "        frame.scripts.append(Scripting(sha1=scriptinc.script.sha1, sha1_url=scriptinc.script.sha1_url, url=scriptinc.script.url, saa=scriptinc.script.saa))\n",
    "\n",
    "    # Recursively run the function on all frame children\n",
    "    for child in docinc.children:\n",
    "        get_tree(child.id, frame)\n",
    "\n",
    "    return frame"
   ],
   "outputs": [],
   "execution_count": null
  },
  {
   "cell_type": "code",
   "id": "f2859bc9-8c33-4ffd-877c-01e8fb6eebcf",
   "metadata": {},
   "source": [
    "print(get_tree(2274).children[2].url)"
   ],
   "outputs": [],
   "execution_count": null
  },
  {
   "cell_type": "markdown",
   "id": "c247e1b2-a2b9-4498-906f-1b66d37226b0",
   "metadata": {},
   "source": [
    "---\n",
    "\n",
    "### Get Content of Script or Document"
   ]
  },
  {
   "cell_type": "code",
   "id": "a475b170-6443-404e-9a06-979d9a1e0bd7",
   "metadata": {},
   "source": [
    "def get_content(sha1, sha1_url):\n",
    "    with open(f\"/pycrawler/file_storage/{'/'.join(list(sha1))}/{sha1_url}\", \"r\") as fd:\n",
    "        content = fd.read()\n",
    "        return content"
   ],
   "outputs": [],
   "execution_count": null
  },
  {
   "cell_type": "code",
   "id": "6e5d91a8-b0f0-4a36-849a-423e20e98b52",
   "metadata": {},
   "source": [
    "print(get_content(\"60b37296f3229b08038fe7af4b4a4d339f842933\", \"aa1cc3a44ef7c8ee22ef57012cc63ae3a28203c1\"))"
   ],
   "outputs": [],
   "execution_count": null
  },
  {
   "cell_type": "code",
   "id": "bbc30181-3ca7-445d-a07c-ffdf10e514b1",
   "metadata": {},
   "source": [],
   "outputs": [],
   "execution_count": null
  }
 ],
 "metadata": {
  "kernelspec": {
   "display_name": "Python 3 (ipykernel)",
   "language": "python",
   "name": "python3"
  },
  "language_info": {
   "codemirror_mode": {
    "name": "ipython",
    "version": 3
   },
   "file_extension": ".py",
   "mimetype": "text/x-python",
   "name": "python",
   "nbconvert_exporter": "python",
   "pygments_lexer": "ipython3",
   "version": "3.10.12"
  }
 },
 "nbformat": 4,
 "nbformat_minor": 5
}
