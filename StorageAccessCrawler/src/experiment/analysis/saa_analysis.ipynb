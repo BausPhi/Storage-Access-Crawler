{
 "cells": [
  {
   "cell_type": "markdown",
   "id": "351010b7-f26b-48f2-b5e4-7cd563712b1d",
   "metadata": {},
   "source": [
    "# SAA Analysis\n",
    "\n",
    "This notebook contains an example implementation of how to load and analyze the data that was collected using the crawler.\n",
    "\n",
    "---\n",
    "\n",
    "## Imports"
   ]
  },
  {
   "cell_type": "code",
   "execution_count": null,
   "id": "23717922-c24a-4f30-ac33-c63ea1342c89",
   "metadata": {},
   "outputs": [],
   "source": [
    "from database import Task, URL\n",
    "from IPython.display import display, HTML\n",
    "from modules.storageaccessapi import Document, DocumentInclusion, Script, ScriptInclusion, SaaCall, Cookies\n",
    "import pandas as pd"
   ]
  },
  {
   "cell_type": "markdown",
   "id": "32636375-80a6-4e2d-baa4-d8b9658ea047",
   "metadata": {},
   "source": [
    "---\n",
    "\n",
    "## Loading Data from DB"
   ]
  },
  {
   "cell_type": "code",
   "execution_count": null,
   "id": "df713c3a-1b18-4857-a271-5ea41e7ff8c2",
   "metadata": {},
   "outputs": [],
   "source": [
    "# Load all script and document inclusions that include SAA functions\n",
    "script_inclusions_query = (\n",
    "    ScriptInclusion\n",
    "    .select(\n",
    "        ScriptInclusion, Script\n",
    "    )\n",
    "    .join(Script, on=(ScriptInclusion.script == Script.id))\n",
    "    .where((Script.has_saa == True) | (Script.request_saa == True))\n",
    ")\n",
    "document_inclusions_query = (\n",
    "    DocumentInclusion\n",
    "    .select(\n",
    "        DocumentInclusion, Document\n",
    "    )\n",
    "    .join(Document, on=(DocumentInclusion.document == Document.id))\n",
    "    .where((Document.has_saa == True) | (Document.request_saa == True))\n",
    ")\n",
    "\n",
    "script_inclusions = pd.DataFrame(list(script_inclusions_query.dicts()))\n",
    "document_inclusions = pd.DataFrame(list(document_inclusions_query.dicts()))"
   ]
  },
  {
   "cell_type": "code",
   "execution_count": null,
   "id": "c0ac560c-a4e0-4675-a2b8-df600812e9a9",
   "metadata": {},
   "outputs": [],
   "source": [
    "display(script_inclusions, document_inclusions)"
   ]
  },
  {
   "cell_type": "code",
   "execution_count": null,
   "id": "6ac5169d-c640-4eb0-90ba-1e0e19a34adb",
   "metadata": {},
   "outputs": [],
   "source": [
    "# Load all SAA calls\n",
    "calls_query = (\n",
    "    SaaCall\n",
    "    .select(\n",
    "        SaaCall\n",
    "    )\n",
    "    .where((SaaCall.has_saa == True) | (SaaCall.request_saa == True))\n",
    ")\n",
    "calls = pd.DataFrame(list(calls_query.dicts()))"
   ]
  }
 ],
 "metadata": {
  "kernelspec": {
   "display_name": "Python 3 (ipykernel)",
   "language": "python",
   "name": "python3"
  },
  "language_info": {
   "codemirror_mode": {
    "name": "ipython",
    "version": 3
   },
   "file_extension": ".py",
   "mimetype": "text/x-python",
   "name": "python",
   "nbconvert_exporter": "python",
   "pygments_lexer": "ipython3",
   "version": "3.10.12"
  }
 },
 "nbformat": 4,
 "nbformat_minor": 5
}
